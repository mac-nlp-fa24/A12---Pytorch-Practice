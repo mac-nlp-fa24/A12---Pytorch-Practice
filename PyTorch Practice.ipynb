{
 "cells": [
  {
   "cell_type": "markdown",
   "id": "4ebc4383-6587-4361-a418-6653da144518",
   "metadata": {},
   "source": [
    "# Pytorch Examples & Practice\n",
    "\n",
    "## Learning Goals\n",
    "\n",
    "Today's goals are to\n",
    "\n",
    "1. Practice writing model and training code using PyTorch\n",
    "2. Practice translating between mathematical, visual, and code representations of a model\n",
    "3. Understand the way in which deep neural networks can be thought of as representation learners \n",
    "4. Understand the purpose of common neural network training techniques, like dropout, normalization, etc.\n",
    "\n",
    "## Today's Activity\n",
    "\n",
    "Today's activity is split into a couple of parts, all designed to further familiarize yourself with PyTorch and the structure of deep neural networks. The assignment has 4 parts:\n",
    "\n",
    "First, a demo of the XOR problem to illustrate how we can build representation spaces that allow for us to solve non-linear problems with FFNs that something like a perceptron cannot solve!\n",
    "\n",
    "Second, a demo of utilizing GPUs to train models in pytorch. I recommend running this using Google Colab, linked below.\n",
    "\n",
    "Third, a few odds and ends needed to discuss interesting ML architectures for NLP. \n",
    "\n",
    "Fourth, a few practice problems to make sure you understand how models can be communicated, and how to translate them into working code.\n",
    "\n",
    "This is meant as a combo of an interactive reading/demo and a few problems. There is not any substantial new material since we don't have lecture, so I will not grade any submission for this assignment. However, you should feel free to check answers to the practice problems with me during office hours!"
   ]
  },
  {
   "cell_type": "code",
   "execution_count": null,
   "id": "cea53c01-d8c0-46cd-814e-b7da8cf8bde0",
   "metadata": {},
   "outputs": [],
   "source": [
    "import torch\n",
    "import torch.nn as nn\n",
    "import torch.nn.functional as F"
   ]
  },
  {
   "cell_type": "markdown",
   "id": "68e5b685-ee82-4aa1-a3bf-31266582ebc7",
   "metadata": {
    "jp-MarkdownHeadingCollapsed": true
   },
   "source": [
    "### The XOR Problem\n",
    "\n",
    "Here, we'll demo the classic XOR problem by building a (kinda) perceptron and a logistic regression model (i.e., a model with a *non-linearity*) and see how well they learn the task. Here, first, let's specify how the two models should look mathematically:\n",
    "\n",
    "The perceptron should have it's output be $$\\hat{y} = w \\cdot x + b$$ and assign label $\\text{sign}(\\hat{y})$ where $$ \\text{sign}(x) = \\begin{cases} 1, x \\geq 0 \\\\ -1, \\text{otherwise}  \\end{cases} $$ for parameters $w \\in \\mathbb{R}^n$ (an n-dimensional vector!) and $b \\in \\mathbb{R}$ (a *scalar*, or just a real number). You can do this by making tensors and wrapping them with `nn.Parameter`, but is there a simpler way?\n",
    "\n",
    "Our loss function is going to be what we call *perceptron loss*: $$loss(y, \\hat{y}) = \\max(0, -\\hat{y} \\cdot y)$$. For labels 1 and -1, what values will the loss function take? When will loss be 0 and when will it be positive? When it's positive, how large is it?"
   ]
  },
  {
   "cell_type": "code",
   "execution_count": null,
   "id": "a2fe3ea6-1f3b-4955-8868-e6cf2f73c4f6",
   "metadata": {},
   "outputs": [],
   "source": [
    "class Perceptron(nn.Module):\n",
    "    def __init__(self, n : int):\n",
    "        super(Perceptron, self).__init__()\n",
    "\n",
    "        self.linear = nn.Linear(n, 1)\n",
    "\n",
    "    def forward(self, x : torch.Tensor):\n",
    "        return self.linear(x)\n",
    "\n",
    "def loss_f(y : float, y_hat : float):\n",
    "    return torch.max(torch.tensor(0), -y * y_hat)\n",
    "\n",
    "def sign(x):\n",
    "    if x < 0:\n",
    "        return -1.0\n",
    "    return 1.0"
   ]
  },
  {
   "cell_type": "markdown",
   "id": "240a9fb2-d089-4d97-9a5d-ce5a9b7a439e",
   "metadata": {},
   "source": [
    "And, of course, the XOR problem: For inputs $a, b \\in \\{0, 1\\}$, $$ xor(a, b) = \\begin{cases}0, a = b \\\\ 1, \\text{otherwise}, \\end{cases} $$ represented as a dataset as below. Note that since our perceptron assigns classes values 1 and -1, the *class* 0 takes value -1: A strange quirk of binary classification with perceptrons!\n",
    "\n",
    "We'll also consider, to set a baseline, the comparable OR problem: For inputs $a, b \\in \\{0, 1\\}$, $$ or(a, b) = \\begin{cases}0, a = b = 0 \\\\ 1, \\text{otherwise}, \\end{cases} $$That is, $or(a,b)$ is true if either $a$ is 1, $b$ is 1, or $a$ and $b$ are 1. This function *is* linearly separable, so we should expect our perceptrons to be able to learn this function."
   ]
  },
  {
   "cell_type": "code",
   "execution_count": null,
   "id": "b26c000a-700d-4dfd-ad70-17c15e0f322c",
   "metadata": {},
   "outputs": [],
   "source": [
    "xor_data = [([0.0, 0.0], -1.0), \n",
    "            ([0.0, 1.0], 1.0),\n",
    "            ([1.0, 0.0], 1.0),\n",
    "            ([1.0, 1.0], -1.0)]\n",
    "\n",
    "or_data = [([0.0, 0.0], -1.0), \n",
    "           ([0.0, 1.0], 1.0),\n",
    "           ([1.0, 0.0], 1.0),\n",
    "           ([1.0, 1.0], 1.0)]"
   ]
  },
  {
   "cell_type": "markdown",
   "id": "7bacc7b1-a2c2-4190-b661-ea9065280e58",
   "metadata": {},
   "source": [
    "Now, here is code to train a model. Note how *general* the code is: We'll use it to train the feedforward network we'll compare the perceptron to!\n",
    "\n",
    "Again, note the 4 steps we conduct in a loop: We use our (probably bad) model to predict an output, we compute a loss (i.e., measure *how* bad our model is), we compute the gradient with respect to each parameter (i.e., how should I change each parameter so my model's loss would go down), and then we update those parameters by a little bit (proportional to our *learning rate*). By repeating this over and over again, our model will (hopefully) get better!"
   ]
  },
  {
   "cell_type": "code",
   "execution_count": null,
   "id": "1e7be4c9-63ef-4792-9c48-d17910e69727",
   "metadata": {},
   "outputs": [],
   "source": [
    "import random\n",
    "\n",
    "def train_model(model, lr, num_epochs, data):\n",
    "    optimizer = torch.optim.SGD(model.parameters(), lr = lr)\n",
    "    losses = []\n",
    "    \n",
    "    for epoch in range(num_epochs):\n",
    "        # process the examples in a random order each epoch\n",
    "        random.shuffle(data)\n",
    "        \n",
    "        total_loss = 0.0\n",
    "        \n",
    "        for x, y in data:\n",
    "            # predict\n",
    "            x = torch.tensor(x)\n",
    "            y = torch.tensor(y)\n",
    "            y_hat = model(x)\n",
    "    \n",
    "            # compute loss\n",
    "            loss = loss_f(y, y_hat)\n",
    "    \n",
    "            # compute gradient\n",
    "            loss.backward()\n",
    "            total_loss += loss.item()\n",
    "        \n",
    "            # update weights\n",
    "            optimizer.step()\n",
    "            optimizer.zero_grad()\n",
    "            \n",
    "        losses.append(total_loss)\n",
    "        \n",
    "    return model, losses"
   ]
  },
  {
   "cell_type": "markdown",
   "id": "90b057b9-412f-40f3-ab83-5b88522ab48e",
   "metadata": {},
   "source": [
    "Let's train our perceptron on the OR problem!"
   ]
  },
  {
   "cell_type": "code",
   "execution_count": null,
   "id": "49a075e1-e471-46c1-8952-11f027247a83",
   "metadata": {},
   "outputs": [],
   "source": [
    "or_perceptron = Perceptron(2)\n",
    "or_perceptron, or_losses = train_model(or_perceptron, 0.01, 5000, or_data)"
   ]
  },
  {
   "cell_type": "markdown",
   "id": "10564eb2-7beb-4b04-8e8d-2bd24f7b8f9e",
   "metadata": {},
   "source": [
    "Now let's inspect our *training curve*, a plot that shows how the training loss of our model changes over time (here, each epoch). We should see that the model learns fairly quickly!"
   ]
  },
  {
   "cell_type": "code",
   "execution_count": null,
   "id": "73e6dfa6-ba04-4f65-98df-cbf9f469a84f",
   "metadata": {},
   "outputs": [],
   "source": [
    "import matplotlib.pyplot as plt\n",
    "plt.plot(or_losses)"
   ]
  },
  {
   "cell_type": "markdown",
   "id": "2e2d68b5-feea-4f61-8cd4-1d3a74b26c83",
   "metadata": {},
   "source": [
    "This is a very simple model, so it can be instructive to look directly at the values the models' parameters!"
   ]
  },
  {
   "cell_type": "code",
   "execution_count": null,
   "id": "5473999a-a15d-4273-a897-698c78b9beb3",
   "metadata": {},
   "outputs": [],
   "source": [
    "for name, param in or_perceptron.named_parameters():\n",
    "    print(name)\n",
    "    print(param)"
   ]
  },
  {
   "cell_type": "markdown",
   "id": "5addbbd1-9008-42be-9c40-38036e6f9db1",
   "metadata": {},
   "source": [
    "Since we randomly initialize, I can't say exactly what these values should be (or if the model even converged!), but at the very least, we can visualize how the model you trained classifies. \n",
    "\n",
    "We can do this by looking at the *hyperplane* (i.e., line, but sometimes in higher dimensions) that separates positive and negative examples for our perceptron. I've promised you that classification with a perceptron is equivalent to drawing a line to separate the points, and here is where I show you how:\n",
    "\n",
    "Our perceptron assigns each point $(x,y)$ in 2-D space a score $w_1x + w_2y + b$. This should look familiar: We just represent our weight vector as it's 2 values $w_1, w_2$ and the input vector as it's 2 values $x, y$. Some of those points are going to be positive, others will be negative, but critically, since the function is linear with respect to x and y, there is a single line that will cross our plot that separates these positive and negative examples. These are exactly the points at which we assign a score of 0! This is our *decision boundary*. To draw this line, we can turn this into an equation of a line that looks more familiar:\n",
    "\n",
    "$$ w_1x + w_2y + b = 0 $$\n",
    "$$ w_2y = -b - w_1x $$\n",
    "$$ y = -\\frac{w_1x + b}{w_2} $$\n",
    "$$ y = -\\frac{w_1}{w_2}x + \\frac{b}{w_2} $$\n",
    "\n",
    "Given a trained model's parameters, we can actually compute some points"
   ]
  },
  {
   "cell_type": "code",
   "execution_count": null,
   "id": "ad116d75-0025-42b4-a89e-70c130c912b9",
   "metadata": {},
   "outputs": [],
   "source": [
    "def get_y(x, w, b):\n",
    "    return (-(b + (w[0] * x))/w[1]).item()"
   ]
  },
  {
   "cell_type": "markdown",
   "id": "a1363449-759b-4258-8156-3c511e363cf6",
   "metadata": {},
   "source": [
    "And plot the decision boundary directly! Here I also add red dots to indicate +1 labeled inputs and blue dots to indicate -1 labeled inputs (i.e., 0 values for the OR problem)."
   ]
  },
  {
   "cell_type": "code",
   "execution_count": null,
   "id": "17491263-871c-4780-9a26-6243a86bb06b",
   "metadata": {},
   "outputs": [],
   "source": [
    "plt.plot([-0.5, 1.5], [get_y(-0.5, or_perceptron.linear.weight.view(-1), or_perceptron.linear.bias), \n",
    "                  get_y(1.5, or_perceptron.linear.weight.view(-1), or_perceptron.linear.bias)])\n",
    "plt.plot([0], [0], \"bo\")\n",
    "plt.plot([0,1,1], [1,0,1], \"ro\")"
   ]
  },
  {
   "cell_type": "markdown",
   "id": "2e3397c5-4aef-486a-a1c3-4a6268a56fd0",
   "metadata": {},
   "source": [
    "And hopefully you should see that we have, in fact, classified inputs appropriately! The line separates the blue and red points!\n",
    "\n",
    "Now we can also just have our model classify inputs, and verify the same thing: I print the input, the provided label, and the target label."
   ]
  },
  {
   "cell_type": "code",
   "execution_count": null,
   "id": "b0ab4164-f5a0-446f-8ed8-8aa7d85202bc",
   "metadata": {},
   "outputs": [],
   "source": [
    "for x, y in or_data:\n",
    "    x = torch.tensor(x)\n",
    "    print(x, sign(or_perceptron(x)), y)"
   ]
  },
  {
   "cell_type": "markdown",
   "id": "bc2e351f-15b4-47ca-b883-1d9e80b4bc03",
   "metadata": {},
   "source": [
    "#### Now more exclusive!\n",
    "\n",
    "Let's go through the same thing with the XOR problem:"
   ]
  },
  {
   "cell_type": "code",
   "execution_count": null,
   "id": "4b504b07-acbe-44d3-ba76-6ae01e88e875",
   "metadata": {},
   "outputs": [],
   "source": [
    "xor_perceptron = Perceptron(2)\n",
    "xor_perceptron, xor_losses = train_model(xor_perceptron, 0.01, 5000, xor_data)"
   ]
  },
  {
   "cell_type": "code",
   "execution_count": null,
   "id": "88a3fe88-438a-46b9-bc5d-a4fde51a5eba",
   "metadata": {},
   "outputs": [],
   "source": [
    "import matplotlib.pyplot as plt\n",
    "plt.plot(xor_losses)"
   ]
  },
  {
   "cell_type": "code",
   "execution_count": null,
   "id": "c2b05e31-8fb6-4140-b790-df382c529bba",
   "metadata": {},
   "outputs": [],
   "source": [
    "plt.plot([-0.5, 1.5], \n",
    "         [get_y(-0.5, xor_perceptron.linear.weight.view(-1), xor_perceptron.linear.bias), \n",
    "          get_y(1.5, xor_perceptron.linear.weight.view(-1), xor_perceptron.linear.bias)])\n",
    "plt.plot([0,1], [0,1], \"bo\")\n",
    "plt.plot([0,1], [1,0], \"ro\")"
   ]
  },
  {
   "cell_type": "markdown",
   "id": "11536aad-a1fb-48a8-9d68-2571f6d8ae87",
   "metadata": {},
   "source": [
    "And here's the rub: no matter how hard we try, the model will never learn the right function --- we'll always misclassify something!"
   ]
  },
  {
   "cell_type": "code",
   "execution_count": null,
   "id": "180c2842-3339-4ced-b66f-2fcac9f7ed50",
   "metadata": {},
   "outputs": [],
   "source": [
    "for x, y in or_data:\n",
    "    x = torch.tensor(x)\n",
    "    print(x, sign(xor_perceptron(x)), y)"
   ]
  },
  {
   "cell_type": "markdown",
   "id": "bcb2efd7-934e-49aa-a9e4-7d5094b5c1f7",
   "metadata": {},
   "source": [
    "#### Now with an FFN!\n",
    "\n",
    "Now let's build a 2-layer \"deep\" neural network to solve this problem.\n",
    "\n",
    "Mostly following Goodfellow (2016), we'll model our network as follows:\n",
    "\n",
    "We have an input $x \\in \\mathbb{R}^2$ which we feed into a single linear layer\n",
    "\n",
    "$$ h = \\sigma(W_1x + b_1) $$ with weights $W_1 \\in \\text{Mat}(2,2)$ (a 2x2 matrix) and $b \\in \\mathbb{R}^2$.\n",
    "\n",
    "and then feed that into an output layer\n",
    "\n",
    "$$ o = W_2h + b_2 $$ with weights $W_2 \\in \\text{Mat}(2,1)$ (essentially in $\\mathbb{R}^2$) and $b \\in \\mathbb{R}$. \n",
    "\n",
    "We can then just check the sign as per the perceptron!\n",
    "\n",
    "Note the key difference is that we add a *single hidden layer* --- everything else is just a perceptron!"
   ]
  },
  {
   "cell_type": "code",
   "execution_count": null,
   "id": "f011cb0b-896c-4112-9c93-64881795d77e",
   "metadata": {},
   "outputs": [],
   "source": [
    "class FFN(nn.Module):\n",
    "    def __init__(self, n : int):\n",
    "        super(FFN, self).__init__()\n",
    "\n",
    "        self.linear = nn.Linear(n, n)\n",
    "        self.output = nn.Linear(n, 1)\n",
    "\n",
    "    def forward(self, x : torch.Tensor):\n",
    "        h = F.sigmoid(self.linear(x))\n",
    "        o = self.output(h)\n",
    "        return o"
   ]
  },
  {
   "cell_type": "code",
   "execution_count": null,
   "id": "3850d251-7842-4cf1-98c1-c3f9378192aa",
   "metadata": {},
   "outputs": [],
   "source": [
    "xor_ffn = FFN(2)\n",
    "xor_ffn, ffn_losses = train_model(xor_ffn, 1, 5000, xor_data)"
   ]
  },
  {
   "cell_type": "code",
   "execution_count": null,
   "id": "596e79ec-8411-4ef1-9727-e438f36ddd12",
   "metadata": {},
   "outputs": [],
   "source": [
    "import matplotlib.pyplot as plt\n",
    "plt.plot(ffn_losses)"
   ]
  },
  {
   "cell_type": "code",
   "execution_count": null,
   "id": "18398b11-c353-44c0-b38b-03ef43123c54",
   "metadata": {},
   "outputs": [],
   "source": [
    "for x, y in xor_data:\n",
    "    x = torch.tensor(x)\n",
    "    print(x, sign(xor_ffn(x)), y)"
   ]
  },
  {
   "cell_type": "markdown",
   "id": "a8fb113b-c4eb-445b-ab7d-468a10ad470d",
   "metadata": {},
   "source": [
    "Note that training here is a bit finicky: A lot of this depends on the initial conditions of our network so we don't end up an a local minimum that doesn't solve the problem. Don't be too shocked if some random start doesn't lead to an optimal solution, but some do! I promise!\n",
    "\n",
    "Now let's look at *why* our single new layer lets us perform miracles. We are applying a non-linear transformation to get from our input $x$ to a representation in a hidden space $h$. If this results in a set of linearly separable points, then our perceptron will be able to learn a solution to the XOR problem! Let's visualize this:\n",
    "\n",
    "First, we'll compute the representations of our input in the hidden space, annotated with their coordinates in the input space."
   ]
  },
  {
   "cell_type": "code",
   "execution_count": null,
   "id": "a67714be-aa49-4f3e-8f64-b8e84b44f755",
   "metadata": {},
   "outputs": [],
   "source": [
    "fig, ax = plt.subplots(1, 2, figsize=(8, 3))\n",
    "\n",
    "for x, y in xor_data:\n",
    "    h = F.sigmoid(xor_ffn.linear(torch.tensor(x)))\n",
    "    ax[0].plot(*x, \n",
    "            \"ro\" if y == 1 else \"bo\")\n",
    "    ax[1].plot(*h.detach(), \n",
    "            \"ro\" if y == 1 else \"bo\")\n",
    "    ax[1].annotate(\"({}, {})\".format(*x), xy=h.detach(),\n",
    "                xytext=(2, 2), textcoords='offset points')\n",
    "\n",
    "ax[1].axline([0, get_y(0, xor_ffn.output.weight.view(-1), xor_ffn.output.bias)], \n",
    "             [0.1, get_y(0.1, xor_ffn.output.weight.view(-1), xor_ffn.output.bias)])"
   ]
  },
  {
   "cell_type": "markdown",
   "id": "6fd6784a-20e8-462b-b2da-c6f5263da3bd",
   "metadata": {},
   "source": [
    "Note that (if your model trained correctly) this should be linearly separable! The first plot shows the inputs in their own 2D space, and the second shows the input points transformed into points in the hidden space, as well as the decision boundary the model has learned. \n",
    "\n",
    "You can think about the model as two pieces: An *encoder* that builds a representatation (vector of features) of the input (here, the `linear` layer) and then a *decoder, or *classifier*, portion of the model that turns that represention into a label. The encoder part of the model essentially automates feature engineering for us --- gradient descent (hopefully) finds features that help classification!"
   ]
  },
  {
   "cell_type": "markdown",
   "id": "a7309484-4070-4041-bf20-67743b7b366e",
   "metadata": {
    "jp-MarkdownHeadingCollapsed": true
   },
   "source": [
    "## Pytorch on a GPU\n",
    "\n",
    "So far, we've been running code on CPUs, which, as we've discussed, is not optimal when we're essentially just doing matrix operations. Instead, we should be leveraging GPUs when available. Of course, \"when available\" varies, especially on your personal machines. I personally recommend using [Google CoLab](https://colab.research.google.com/) to benchmark the code below. Uploading this notebook should work! Make sure to enable the GPU in by navigating to the menu in Edit -> Notebook Setting.\n",
    "\n",
    "To manage GPU usage, PyTorch uses the concept of a `device` representing either the CPU or GPU. When you perform a computation, all tensors used in the computation must be on the same device and computations will be performed on that device.\n",
    "\n",
    "For us, if we want to use an GPU, we'll need to \n",
    "\n",
    "1. Figure out what devices are available to us.\n",
    "2. Move relevant objects to the intended device.\n",
    "3. Do the computations we want, and move them back to the CPU if necessary.\n",
    "\n",
    "We can figure out what devices are available through one of several \"standard\" interfaces between your PyTorch code and the GPU. The primary one is [CUDA](https://pytorch.org/docs/stable/cuda.html), but others exist, like [MPS](https://pytorch.org/docs/stable/mps.html) for Apple GPUs. Here is a bit of code to check whether devices are available:"
   ]
  },
  {
   "cell_type": "code",
   "execution_count": null,
   "id": "6cba5d79-3025-481a-9422-6222f5fa5738",
   "metadata": {},
   "outputs": [],
   "source": [
    "print(\"Is a CUDA device available? {}\".format(torch.cuda.is_available()))\n",
    "print(\"Is a MPS device available? {}\".format(torch.backends.mps.is_available()))"
   ]
  },
  {
   "cell_type": "markdown",
   "id": "b89e9ec1-bf55-43c0-8603-eb25e830ff50",
   "metadata": {},
   "source": [
    "And so getting the relevant device would look something like"
   ]
  },
  {
   "cell_type": "code",
   "execution_count": null,
   "id": "e31f8e9f-1fa9-4e62-88d7-d45421c2aa60",
   "metadata": {},
   "outputs": [],
   "source": [
    "device = torch.device(\"cpu\") # default to the CPU\n",
    "\n",
    "# Use something better if available\n",
    "if torch.cuda.is_available():\n",
    "    device = torch.device(\"cuda\")\n",
    "elif torch.backends.mps.is_available():\n",
    "    device = torch.device(\"mps\")"
   ]
  },
  {
   "cell_type": "markdown",
   "id": "cfafa2a3-0f39-4c22-bead-13fc0ed20e12",
   "metadata": {},
   "source": [
    "Now you can manage where tensors are located by using the `.to` method of PyTorch classes. For example, for a full model, you can do:"
   ]
  },
  {
   "cell_type": "code",
   "execution_count": null,
   "id": "c2401ade-441a-4c3e-b969-46b85e107951",
   "metadata": {},
   "outputs": [],
   "source": [
    "model = FFN(2)\n",
    "for param in model.parameters():\n",
    "    print(param)"
   ]
  },
  {
   "cell_type": "code",
   "execution_count": null,
   "id": "77534db3-75d0-43e6-a068-7ed840585f02",
   "metadata": {},
   "outputs": [],
   "source": [
    "model = model.to(device)\n",
    "for param in model.parameters():\n",
    "    print(param)"
   ]
  },
  {
   "cell_type": "markdown",
   "id": "62a8f209-183f-421e-84ce-e9e77cd8ba76",
   "metadata": {},
   "source": [
    "Note (if you have a non-cpu device available) that you should now see a `device=cuda:0` or `device=mps:0` or similar message for each parameter in the model that's been moved! \n",
    "\n",
    "The same can be done for individual tensors too:"
   ]
  },
  {
   "cell_type": "code",
   "execution_count": null,
   "id": "6ee746e2-af73-4bdf-85cc-f0f75d265e6b",
   "metadata": {},
   "outputs": [],
   "source": [
    "x = torch.tensor([0.0, 1.0])\n",
    "print(x)"
   ]
  },
  {
   "cell_type": "code",
   "execution_count": null,
   "id": "c4e5b644-1ea9-439b-9430-431e21470d1d",
   "metadata": {},
   "outputs": [],
   "source": [
    "x = x.to(device)\n",
    "print(x)"
   ]
  },
  {
   "cell_type": "markdown",
   "id": "a92c5b49-7d5f-4bdb-b70b-670f8c430f00",
   "metadata": {},
   "source": [
    "And you can do computations on the new device!"
   ]
  },
  {
   "cell_type": "code",
   "execution_count": null,
   "id": "22d53501-53f4-4fe1-9f67-fdc774943bd4",
   "metadata": {},
   "outputs": [],
   "source": [
    "model(x)"
   ]
  },
  {
   "cell_type": "markdown",
   "id": "263d387e-2f39-4a8a-a912-978300364fa1",
   "metadata": {},
   "source": [
    "Now, reflecting on what we've talked about, **why does this next example throw a RuntimeError? What's wrong here?**"
   ]
  },
  {
   "cell_type": "code",
   "execution_count": null,
   "id": "24792afb-9cad-4380-88e7-5d7730a7eac1",
   "metadata": {},
   "outputs": [],
   "source": [
    "model = FFN(2)\n",
    "model = model.to(device)\n",
    "\n",
    "model(torch.tensor([0.0, 1.0]))"
   ]
  },
  {
   "cell_type": "markdown",
   "id": "fdfe3a56-1bbd-45b3-8ba0-aba6294070c8",
   "metadata": {},
   "source": [
    "Now let's compare training using GPU vs. not..."
   ]
  },
  {
   "cell_type": "code",
   "execution_count": null,
   "id": "a7287fff-1e0e-42f7-a3cf-9b25fb1fa373",
   "metadata": {},
   "outputs": [],
   "source": [
    "import time\n",
    "def train_model_timed(model, lr, num_epochs, data, device):\n",
    "    model = model.to(device)\n",
    "    optimizer = torch.optim.SGD(model.parameters(), lr = lr)\n",
    "    losses = []\n",
    "    start = time.time()\n",
    "    for epoch in range(num_epochs):\n",
    "        # process the examples in a random order each epoch\n",
    "        random.shuffle(data)\n",
    "        \n",
    "        total_loss = 0.0\n",
    "        for x, y in data:\n",
    "            # predict\n",
    "            x = torch.tensor(x).to(device)\n",
    "            y = torch.tensor(y).to(device)\n",
    "            y_hat = model(x)\n",
    "    \n",
    "            # compute loss\n",
    "            loss = loss_f(y, y_hat)\n",
    "    \n",
    "            # compute gradient\n",
    "            loss.backward()\n",
    "            total_loss += loss.item()\n",
    "        \n",
    "            # update weights\n",
    "            optimizer.step()\n",
    "            optimizer.zero_grad()\n",
    "            \n",
    "        losses.append(total_loss)\n",
    "    end = time.time()\n",
    "    print(\"{} epochs in {:.3}s\".format(num_epochs, end - start))\n",
    "        \n",
    "    return model, losses"
   ]
  },
  {
   "cell_type": "code",
   "execution_count": null,
   "id": "c94e2154-fc9e-4eeb-87d7-62e393f86d87",
   "metadata": {},
   "outputs": [],
   "source": [
    "model_1 = train_model_timed(model, 0.01, 1000, xor_data, \"cpu\")"
   ]
  },
  {
   "cell_type": "code",
   "execution_count": null,
   "id": "360f70a2-f694-4310-a18c-854c050c16a1",
   "metadata": {},
   "outputs": [],
   "source": [
    "model_1 = train_model_timed(model, 0.01, 1000, xor_data, device)"
   ]
  },
  {
   "cell_type": "markdown",
   "id": "249ee0a5-c1fc-4883-a142-d5b7e4d62fb6",
   "metadata": {
    "jp-MarkdownHeadingCollapsed": true
   },
   "source": [
    "Wait... our GPU makes us slower? \n",
    "\n",
    "Consider for a moment the size of our model. There aren't a whole lot of matrix operations to parallelize if we're multiplying 2x2 matrices! In fact, we're slowing ourselves down by wasting a ton of time moving our inputs and outputs onto the GPU! To actually get gains, we need a larger model. Let's consider the Neural Trigram Model from the last activity... Collapse this next section to skip some old code!\n",
    "\n",
    "#### Neural Trigram Code"
   ]
  },
  {
   "cell_type": "code",
   "execution_count": null,
   "id": "e4bea5dc-72f8-49d3-a12b-96e3998661b0",
   "metadata": {},
   "outputs": [],
   "source": [
    "from typing import Sequence\n",
    "\n",
    "class NeuralTrigram(nn.Module):\n",
    "    def __init__(self, vocab_size, embeddings_size, hidden_size):\n",
    "        super(NeuralTrigram, self).__init__()\n",
    "        \n",
    "        self.embed = nn.Embedding(vocab_size, embeddings_size)\n",
    "        self.linear = nn.Linear(2*embeddings_size, hidden_size)\n",
    "        self.output = nn.Linear(hidden_size, vocab_size)\n",
    "        self.softmax = nn.LogSoftmax(dim=-1)\n",
    "\n",
    "    def forward(self, C : torch.Tensor):\n",
    "        *batch_dims, _ = C.size()\n",
    "        embeds = self.embed(C)\n",
    "        context = embeds.view(*batch_dims, -1)\n",
    "        h = F.tanh(self.linear(context))\n",
    "        logits = self.output(h)\n",
    "        return self.softmax(logits)"
   ]
  },
  {
   "cell_type": "code",
   "execution_count": null,
   "id": "52331260-a1ff-42b3-bb39-1f05624d4095",
   "metadata": {},
   "outputs": [],
   "source": [
    "def get_batched_ngrams(data, n, batch_size):\n",
    "    # Drop words so data is evenly divisible by batch size\n",
    "    data = data[:(len(data)//batch_size)*batch_size]\n",
    "    \n",
    "    # reshape so we have batch_size x seq_len dimensions\n",
    "    data = data.view(batch_size, -1)\n",
    "    \n",
    "    for i in range(data.size()[1] - n + 1):\n",
    "        yield data[:, i:i+n-1], data[:, i+n-1]\n",
    "\n",
    "def pad(tokens, n, eos=\"<eos>\"):\n",
    "     if n <= 1: return tokens\n",
    "     out_tokens = []\n",
    "     for w in tokens:\n",
    "         if w == eos:\n",
    "             out_tokens += [eos] * (n-1)\n",
    "             continue\n",
    "         out_tokens.append(w)\n",
    "     out_tokens = ([eos] * (n-1)) + out_tokens\n",
    "     return out_tokens"
   ]
  },
  {
   "cell_type": "code",
   "execution_count": null,
   "id": "084a2c79-5214-4e98-a3ca-0d4915230b7c",
   "metadata": {},
   "outputs": [],
   "source": [
    "with open(\"austen-emma.txt\") as train_f:\n",
    "    data = train_f.read().lower().split()\n",
    "\n",
    "train = data[:100000]"
   ]
  },
  {
   "cell_type": "code",
   "execution_count": null,
   "id": "f7f50c58-80ae-400c-8615-cc30a6c90213",
   "metadata": {},
   "outputs": [],
   "source": [
    "from collections import Counter\n",
    "\n",
    "unk_thresh = 5\n",
    "\n",
    "freqs = Counter(train)\n",
    "vocab = [w for w, c in freqs.items() if c > unk_thresh] + [\"<unk>\"]\n",
    "\n",
    "w2idx = {w:i for i, w in enumerate(vocab)}\n",
    "\n",
    "train_idxs = torch.tensor([w2idx.get(w, w2idx[\"<unk>\"]) \n",
    "                           for w in pad(train, 3)])"
   ]
  },
  {
   "cell_type": "markdown",
   "id": "71f18d71-56cf-4000-a134-ddf11da81cdf",
   "metadata": {},
   "source": [
    "#### Back to new timing stuff!\n",
    "\n",
    "And here let's time training epochs! First with CPU and then with GPU!"
   ]
  },
  {
   "cell_type": "code",
   "execution_count": null,
   "id": "1233c0e5-2485-4b8c-a3fd-fb2c949a8fea",
   "metadata": {},
   "outputs": [],
   "source": [
    "def train_N3G_timed(model, lr, batch_size, num_epochs, train_idxs, device):\n",
    "    nll = nn.NLLLoss()\n",
    "    optimizer = torch.optim.SGD(model.parameters(), lr = lr)\n",
    "    model = model.to(device)\n",
    "    train_idxs = train_idxs.to(device)\n",
    "    \n",
    "    for epoch in range(num_epochs):\n",
    "        start = time.time()\n",
    "        total_loss = 0\n",
    "        num_batches = 0\n",
    "        for C, w in get_batched_ngrams(train_idxs, 3, batch_size):\n",
    "            out = model(C)\n",
    "            \n",
    "            loss = nll(out, w)\n",
    "            loss.backward()\n",
    "            \n",
    "            total_loss += loss.item()\n",
    "            num_batches += 1\n",
    "            \n",
    "            optimizer.step()\n",
    "            optimizer.zero_grad()\n",
    "    \n",
    "        end = time.time()\n",
    "        print(\"epoch {} in {:.3f}s\".format(epoch, end - start))\n",
    "    return model\n",
    "        \n",
    "model = NeuralTrigram(len(vocab), 1024, 1024)"
   ]
  },
  {
   "cell_type": "code",
   "execution_count": null,
   "id": "1d8e2001-1726-4ec5-8ff0-0517edb93a33",
   "metadata": {},
   "outputs": [],
   "source": [
    "model = train_N3G_timed(model, 0.01, 32, 1, train_idxs, device)"
   ]
  },
  {
   "cell_type": "code",
   "execution_count": null,
   "id": "aac6d138-d6a5-447c-b9c8-18c78bb92736",
   "metadata": {},
   "outputs": [],
   "source": [
    "model = train_N3G_timed(model, 0.01, 32, 1, train_idxs, \"cpu\")"
   ]
  },
  {
   "cell_type": "markdown",
   "id": "6002154b-9c34-43fb-b5ee-3dee5ecded95",
   "metadata": {},
   "source": [
    "Again, I make no claim that your results will be consistent with mine, but they should be at least interesting! I've run this code on my Macbook with an MPS device and found the first cell (on MPS) runs in 27.693s and the second cell (on CPU) runs in 15.440s --- So much for the power of GPUs! \n",
    "\n",
    "However, when I ran this script on Google Colab using a T4 GPU, training ran in 3.927s (vs. 77.9s on the CoLab CPU!). Hardware dependence!"
   ]
  },
  {
   "cell_type": "markdown",
   "id": "f52b5c92-972a-41b7-9793-5bb8a536987b",
   "metadata": {
    "jp-MarkdownHeadingCollapsed": true
   },
   "source": [
    "## ML Odds and Ends\n",
    "\n",
    "This section is essentially ML potpourri --- things I'd like you to be aware of in terms of ML engineering, but don't really fit into the conceptual framework of this course. The goal here is to be able to recognize the tool, know why it's used, and then proceed with *informed ignorance* --- knowing you don't need to know about it further in the context of NLP.\n",
    "\n",
    "The big picture is that training ML models is both an art and a science. It is often not particularly interesting (from an academic perspective) to discuss tricks to get models to train better (faster, more stable, etc.), but it is much of the real work of ML Engineering. If you have some interest in what this kind of engineering work looks like, the [Deep Learning Tuning Playbook](https://github.com/google-research/tuning_playbook) is an incredible resource for best-practices!"
   ]
  },
  {
   "cell_type": "markdown",
   "id": "bbf5f8bf-c5b7-43bc-bb31-b5e022de648f",
   "metadata": {},
   "source": [
    "#### Dropout\n",
    "\n",
    "One major pro of NNs is that the representations they learn can be *distributed* representations. That is, information necessary for classification is spread across multiple features/dimensions of a hidden representation, creating redundancy and thus robustness. However, models as we've seen them so far do not necessarily need to learn these kinds of distributed representations. In fact, it's been observed that NNs can often learn particularly brittle representations in a phenomenon known as *co-adaptation*. This, in practice, often leads to overfitting and a lack of generalization.\n",
    "\n",
    "This is often solved by an approach called [*dropout*](http://www.cs.toronto.edu/~rsalakhu/papers/srivastava14a.pdf) --- during training, we randomly ignore (set to 0) some dimensions of our representation as part of our model, which should encourage the model to learn representations that are robust to this kind of noise! To compensate for the change in the total magnitude of the hidden state, the dropout layer scales the remaining dimensions up by a factor of $\\frac{1}{1-p}$, where $p$ is the probability that any given dimension is dropped out.\n",
    "\n",
    "We can implement dropout using the [`nn.Dropout`](https://pytorch.org/docs/stable/generated/torch.nn.Dropout.html) module, like so:"
   ]
  },
  {
   "cell_type": "code",
   "execution_count": null,
   "id": "c0fc9f8f-adf5-4a47-ae19-a32d9a871e7c",
   "metadata": {},
   "outputs": [],
   "source": [
    "dropout_layer = nn.Dropout(p=0.5)\n",
    "\n",
    "x = torch.tensor([0.0, 1.0, 2.0, 3.0, 4.0])\n",
    "\n",
    "print(x)\n",
    "print(dropout_layer(x))"
   ]
  },
  {
   "cell_type": "markdown",
   "id": "7e734dde-d6bc-4c60-b615-a014673fdab7",
   "metadata": {},
   "source": [
    "And use it as a layer in a model by creating the layer in a model's `__init__` method and incorporating it into the `forward` method, as so:"
   ]
  },
  {
   "cell_type": "code",
   "execution_count": null,
   "id": "6495f953-71a3-4ed8-b9dd-df35a9935f12",
   "metadata": {},
   "outputs": [],
   "source": [
    "class FFN_Dropout(nn.Module):\n",
    "    def __init__(self, n : int, dropout=0.5):\n",
    "        super(FFN_Dropout, self).__init__()\n",
    "\n",
    "        self.linear = nn.Linear(n, n)\n",
    "        self.drop = nn.Dropout(p=dropout)\n",
    "        self.output = nn.Linear(n, 1)\n",
    "\n",
    "    def forward(self, x : torch.Tensor):\n",
    "        h = F.sigmoid(self.linear(x))\n",
    "        h = self.drop(h)\n",
    "        o = self.output(h)\n",
    "        return o"
   ]
  },
  {
   "cell_type": "markdown",
   "id": "e95de24d-e033-4d94-9efa-7e6148548a58",
   "metadata": {},
   "source": [
    "#### Layer Normalization \n",
    "\n",
    "Another problem we can run into with training a statistical model is that optimization methods like SGD struggle when inputs to a model have vastly differing distributions. For this reason, we often normalize/standardize the input to our model (remember z-scoring for, say, logistic regression!). One observation we can make is that in a deep neural net, the outputs of one layer are effectively inputs to the next, and so the intuition behind normalization methods is that we can make training more stable and efficient by normalizing the outputs of each layer!\n",
    "\n",
    "There are [a variety of techniques to do this](https://pytorch.org/docs/main/nn.html#normalization-layers), but here we'll dicuss one, LayerNorm, as implemented in `nn.LayerNorm`. Why this one? Because it's popular in NLP models!\n",
    "\n",
    "For the stats-inclined, the technical idea is straightforward: We compute the mean and variance of activations across a layer and normalize (subtract the mean, divide by the standard deviation). We also allow for a post-transformation learned affine transformation (linear with a bias term) afterwards (though [later work critiqued this piece](https://arxiv.org/pdf/1911.07013)). \n",
    "\n",
    "The key idea is that LayerNorm and other normalization layers tend to make learning faster and more stable. You can use it like so:"
   ]
  },
  {
   "cell_type": "code",
   "execution_count": null,
   "id": "3da6b051-977b-4a47-9f3d-f9b44aa6dbd2",
   "metadata": {},
   "outputs": [],
   "source": [
    "class FFN_LN(nn.Module):\n",
    "    def __init__(self, n : int):\n",
    "        super(FFN_LN, self).__init__()\n",
    "\n",
    "        self.linear = nn.Linear(n, n)\n",
    "        self.layernorm = nn.LayerNorm\n",
    "        self.output = nn.Linear(n, 1)\n",
    "\n",
    "    def forward(self, x : torch.Tensor):\n",
    "        h = F.sigmoid(self.linear(x))\n",
    "        h = self.layernorm(h)\n",
    "        o = self.output(h)\n",
    "        return o\n",
    "\n",
    "model = FFN_LN(2)"
   ]
  },
  {
   "cell_type": "markdown",
   "id": "2edcca1f-45d1-47bc-9db4-44b88fb49d75",
   "metadata": {},
   "source": [
    "#### More complex optimizers and manipulating learning rates\n",
    "\n",
    "Stochastic Gradient Descent is neat, but there are fancier methods that tend to learn models better. One particularly popular method is [Adam](https://pytorch.org/docs/stable/generated/torch.optim.Adam.html#adam) or it's variants (AdamW, etc.), implemented using `torch.optim.Adam`. The trade-off between more complex methods and SGD is usually that the more complex methods have more hyperparameters to tune, but for our purposes sticking to defaults often works! \n",
    "\n",
    "Otherwise, swapping between optimizers is fairly plug-and-play! Let's update our neural trigram training code to allow for us to pass in an optimizer class as a parameter..."
   ]
  },
  {
   "cell_type": "code",
   "execution_count": null,
   "id": "e148172e-6333-4ed6-8740-f8ca5eaf4458",
   "metadata": {},
   "outputs": [],
   "source": [
    "def train_N3G_opt(model, lr, batch_size, num_epochs, train_idxs, optimizer, device):\n",
    "    nll = nn.NLLLoss()\n",
    "    optimizer = optimizer(model.parameters(), lr = lr)\n",
    "    model = model.to(device)\n",
    "    train_idxs = train_idxs.to(device)\n",
    "    \n",
    "    for epoch in range(num_epochs):\n",
    "        start = time.time()\n",
    "        total_loss = 0\n",
    "        num_batches = 0\n",
    "        for C, w in get_batched_ngrams(train_idxs, 3, batch_size):\n",
    "            out = model(C)\n",
    "            \n",
    "            loss = nll(out, w)\n",
    "            loss.backward()\n",
    "            \n",
    "            total_loss += loss.item()\n",
    "            num_batches += 1\n",
    "            \n",
    "            optimizer.step()\n",
    "            optimizer.zero_grad()\n",
    "    \n",
    "        end = time.time()\n",
    "        print(\"epoch {} in {:.3f}s\".format(epoch, end - start))\n",
    "    return model"
   ]
  },
  {
   "cell_type": "markdown",
   "id": "941967ed-438c-4ee7-ba25-ee59873c4c90",
   "metadata": {},
   "source": [
    "and then swapping out optimizers is easy!"
   ]
  },
  {
   "cell_type": "code",
   "execution_count": null,
   "id": "87c9d3dd-b683-4abe-b00d-c2eb5d7e3b83",
   "metadata": {},
   "outputs": [],
   "source": [
    "model = NeuralTrigram(len(vocab), 1024, 1024)\n",
    "train_N3G_opt(model, 0.001, 32, 1, train_idxs, torch.optim.Adam, device)"
   ]
  },
  {
   "cell_type": "markdown",
   "id": "e9919a16-ace9-4acc-a821-1881a05fc853",
   "metadata": {
    "jp-MarkdownHeadingCollapsed": true
   },
   "source": [
    "## Pytorch Puzzles\n",
    "\n",
    "I'll close today's \"lecture + activity\" by giving you a few puzzles, to focus on translating between various kinds of model architecture descriptions. Your task will be to write a PyTorch model class (extending `nn.Module`) that implements each description. I will provide you either a verbal description, a diagram, or a set of equations that captures the structure of the model, and it may be helpful to construct the one I don't give along the way!\n",
    "\n",
    "These will not be due in any real way. Consider these an opportunity to check your understanding of the material, and as practice for reading model descriptions in, say, an academic paper!\n",
    "\n",
    "Make sure to construct and run each model on an input to verify that an error isn't thrown in the constructor or in a forward pass!"
   ]
  },
  {
   "cell_type": "markdown",
   "id": "f5aaf2c0-29a3-411d-a8e4-b8c5444de384",
   "metadata": {},
   "source": [
    "#### Neural n-gram model\n",
    "\n",
    "Extend the neural trigram model so that it is an $n$-gram model, with $n$ as a parameter. That is, you have model that operates as so:\n",
    "\n",
    "for a context of $n-1$ words $c_1, \\dots, c_{n-1}$, represented as one-hot vectors in $\\mathbb{R}^{\\lvert V \\rvert}$...\n",
    "\n",
    "$$ e_i = Ec_i $$ for parameter $E \\in \\text{Mat}(l, \\lvert V \\rvert)$ where $l$ is a hyperparameter (embedding size).\n",
    "\n",
    "$$ x = \\bigoplus_i e_i $$ where $\\bigoplus$ is a concatenation operation.\n",
    "\n",
    "$$ h = \\tanh(W_1x + b_1) $$ where $W_1 \\in \\text{Mat}(m, (n-1)l)$ and $b_1 \\in \\mathbb{R}^m$ are parameters and $m$ is a hyperparameter (hidden size).\n",
    "\n",
    "$$ o = W_2x + b_2 $$ where $W_2 \\in \\text{Mat}(\\lvert V \\rvert, m)$ and $b_2 \\in \\mathbb{R}^{\\lvert V \\rvert}$\n",
    "\n",
    "and $p(w \\mid c_1, \\dots c_{n-1})$ is defined via the output of our model, $$ p = \\text{Softmax}(o) $$ "
   ]
  },
  {
   "cell_type": "code",
   "execution_count": null,
   "id": "fd1969c6-19a5-4fb8-946f-459d492519f5",
   "metadata": {},
   "outputs": [],
   "source": []
  },
  {
   "cell_type": "markdown",
   "id": "bd78a2fc-a12a-4d0a-8b3f-79bad893ec0f",
   "metadata": {},
   "source": [
    "#### Neural Bag-of-Words Classifier\n",
    "\n",
    "Consider an input that is a sequence of words/tokens $w_1, \\dots w_n \\in V$. The model is structured as follows:\n",
    "\n",
    "The words are embedded as embedding vectors $e_1, \\dots, e_n \\in \\mathbb{R}^n$, where $n$ is a parameter.\n",
    "\n",
    "Then an input representation is computed using mean/average pooling: $$ x = \\frac{1}{n}\\sum_{i=1}^n e_i $$\n",
    "\n",
    "That representation is fed into a 2-layer feedforward neural network with ReLU activations with hidden dimension $m$.\n",
    "\n",
    "That *sentence encoding* is then fed into a softmax classifier over 3 labels."
   ]
  },
  {
   "cell_type": "code",
   "execution_count": null,
   "id": "8d7c2e39-7dd8-4219-9300-2b663d732cfc",
   "metadata": {},
   "outputs": [],
   "source": []
  },
  {
   "attachments": {
    "0a547274-95c9-49ed-afc9-435b46be3510.png": {
     "image/png": "[encoded data removed]"
    }
   },
   "cell_type": "markdown",
   "id": "9695f4e5-97d0-4337-a6a3-aba4dc41e2b5",
   "metadata": {},
   "source": [
    "### A Deeper Network\n",
    "\n",
    "Construct a model based on the architecture (literally) sketched below, with $e$ (the embedding dimensionality), $h$ (the hidden dimensionality) and $l$ (the label space dimensionality) along with the vocab size and dropout probability as parameters to the constructor.\n",
    "\n",
    "![NLP.png](attachment:0a547274-95c9-49ed-afc9-435b46be3510.png)"
   ]
  },
  {
   "cell_type": "code",
   "execution_count": null,
   "id": "6eab1438-7ebf-4e96-b930-c936b74a17ab",
   "metadata": {},
   "outputs": [],
   "source": []
  }
 ],
 "metadata": {
  "kernelspec": {
   "display_name": "Python 3 (ipykernel)",
   "language": "python",
   "name": "python3"
  },
  "language_info": {
   "codemirror_mode": {
    "name": "ipython",
    "version": 3
   },
   "file_extension": ".py",
   "mimetype": "text/x-python",
   "name": "python",
   "nbconvert_exporter": "python",
   "pygments_lexer": "ipython3",
   "version": "3.10.12"
  }
 },
 "nbformat": 4,
 "nbformat_minor": 5
}
